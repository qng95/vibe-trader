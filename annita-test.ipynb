{
 "cells": [
  {
   "cell_type": "code",
   "execution_count": 2,
   "id": "551ae703",
   "metadata": {},
   "outputs": [
    {
     "data": {
      "text/plain": [
       "{'status': 'success',\n",
       " 'message': 'Successfully bought 10 shares of AAPL.',\n",
       " 'order_id': UUID('391a90e6-c21f-4d95-842a-3b2bfe08e0f4')}"
      ]
     },
     "execution_count": 2,
     "metadata": {},
     "output_type": "execute_result"
    }
   ],
   "source": [
    "from alpaca.trading.client import TradingClient\n",
    "from alpaca.trading.client import TradingClient\n",
    "from alpaca.trading.requests import MarketOrderRequest\n",
    "from alpaca.trading.enums import OrderSide, TimeInForce\n",
    "\n",
    "def buy_stock(symbol: str, quantity: float) -> dict:\n",
    "    \"\"\"Simulate buying a stock.\n",
    "\n",
    "    Args:\n",
    "        symbol (str): The stock ticker symbol of the company.\n",
    "        quantity (float): The number of shares to buy.\n",
    "\n",
    "    Returns:\n",
    "        dict: A dictionary containing the status and confirmation message.\n",
    "    \"\"\"\n",
    "    # Simulate a stock purchase\n",
    "    trading_client = TradingClient('PKIZP2WBBTT7C0I49WXE', 'PxR7A4qGFfVHCoKtxePrSJucmhtGEpZg32ZzGVH6')\n",
    "    # preparing orders\n",
    "    market_order_data = MarketOrderRequest(\n",
    "        symbol=symbol,\n",
    "        qty=quantity,\n",
    "        side=OrderSide.BUY,\n",
    "        time_in_force=TimeInForce.DAY\n",
    "    )\n",
    "\n",
    "    # Market order\n",
    "    market_order = trading_client.submit_order(\n",
    "        order_data=market_order_data\n",
    "    )\n",
    "    \n",
    "    return {\n",
    "        \"status\": \"success\",\n",
    "        \"message\": f\"Successfully bought {quantity} shares of {symbol}.\",\n",
    "        \"order_id\": market_order.id\n",
    "    }\n",
    "\n",
    "\n",
    "buy_stock('AAPL', 10)"
   ]
  }
 ],
 "metadata": {
  "kernelspec": {
   "display_name": "vibe-trader",
   "language": "python",
   "name": "python3"
  },
  "language_info": {
   "codemirror_mode": {
    "name": "ipython",
    "version": 3
   },
   "file_extension": ".py",
   "mimetype": "text/x-python",
   "name": "python",
   "nbconvert_exporter": "python",
   "pygments_lexer": "ipython3",
   "version": "3.12.10"
  }
 },
 "nbformat": 4,
 "nbformat_minor": 5
}
