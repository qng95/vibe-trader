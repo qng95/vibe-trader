{
 "cells": [
  {
   "cell_type": "code",
   "execution_count": null,
   "id": "67bfc2d9",
   "metadata": {},
   "outputs": [
    {
     "name": "stdout",
     "output_type": "stream",
     "text": [
      "id=UUID('11dc5872-a715-466f-a84c-d35eb0ba8cbc') account_number='PA31DA3Z0IPF' status=<AccountStatus.ACTIVE: 'ACTIVE'> crypto_status=<AccountStatus.ACTIVE: 'ACTIVE'> currency='USD' buying_power='200000' regt_buying_power='200000' daytrading_buying_power='0' non_marginable_buying_power='100000' cash='100000' accrued_fees='0' pending_transfer_out=None pending_transfer_in=None portfolio_value='100000' pattern_day_trader=False trading_blocked=False transfers_blocked=False account_blocked=False created_at=datetime.datetime(2025, 5, 22, 18, 24, 3, 406230, tzinfo=TzInfo(UTC)) trade_suspended_by_user=False multiplier='2' shorting_enabled=True equity='100000' last_equity='100000' long_market_value='0' short_market_value='0' initial_margin='0' maintenance_margin='0' last_maintenance_margin='0' sma='100000' daytrade_count=0 options_buying_power='100000' options_approved_level=3 options_trading_level=3\n"
     ]
    }
   ],
   "source": [
    "# Reference: https://alpaca.markets/sdks/python/\n",
    "\n",
    "from alpaca.trading.client import TradingClient\n",
    "from alpaca.trading.client import TradingClient\n",
    "from alpaca.trading.requests import MarketOrderRequest\n",
    "from alpaca.trading.enums import OrderSide, TimeInForce\n",
    "\n",
    "trading_client = TradingClient('PKIZP2WBBTT7C0I49WXE', 'PxR7A4qGFfVHCoKtxePrSJucmhtGEpZg32ZzGVH6')\n",
    "account = trading_client.get_account()\n",
    "print(account)\n",
    "\n",
    "\n",
    "# preparing orders\n",
    "market_order_data = MarketOrderRequest(\n",
    "                    symbol=\"SPY\",\n",
    "                    qty=0.023,\n",
    "                    side=OrderSide.BUY,\n",
    "                    time_in_force=TimeInForce.DAY\n",
    "                    )\n",
    "\n",
    "# Market order\n",
    "market_order = trading_client.submit_order(\n",
    "                order_data=market_order_data\n",
    "               )"
   ]
  },
  {
   "cell_type": "code",
   "execution_count": null,
   "id": "b02ca0af",
   "metadata": {},
   "outputs": [],
   "source": []
  }
 ],
 "metadata": {
  "kernelspec": {
   "display_name": ".venv",
   "language": "python",
   "name": "python3"
  },
  "language_info": {
   "codemirror_mode": {
    "name": "ipython",
    "version": 3
   },
   "file_extension": ".py",
   "mimetype": "text/x-python",
   "name": "python",
   "nbconvert_exporter": "python",
   "pygments_lexer": "ipython3",
   "version": "3.12.10"
  }
 },
 "nbformat": 4,
 "nbformat_minor": 5
}
